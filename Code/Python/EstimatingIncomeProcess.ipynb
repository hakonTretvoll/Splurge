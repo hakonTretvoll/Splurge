{
 "cells": [
  {
   "cell_type": "markdown",
   "metadata": {},
   "source": [
    "\n",
    "# Estimating Income Processes\n",
    "\n",
    "The permanent/transitory decomposition has held up well, but some questions remain. Scandanavian data provides us an unparalled opportunitity to measure this in more detail"
   ]
  },
  {
   "cell_type": "code",
   "execution_count": 1,
   "metadata": {
    "code_folding": [],
    "lines_to_next_cell": 2
   },
   "outputs": [],
   "source": [
    "# Initial imports and notebook setup, click arrow to show\n",
    "import numpy as np\n",
    "import matplotlib.pyplot as plt\n",
    "from pathlib import Path\n",
    "import ipywidgets as widgets\n",
    "from min_distance import parameter_estimation, parameter_estimation_by_subgroup, vech_indices, implied_inc_cov_composite"
   ]
  },
  {
   "cell_type": "code",
   "execution_count": 2,
   "metadata": {
    "code_folding": [
     0
    ],
    "lines_to_next_cell": 2
   },
   "outputs": [],
   "source": [
    "#First load the moments\n",
    "moments_BPP_dir = Path(\"../../Data/BPP_moments/\") \n",
    "empirical_moments_all = np.genfromtxt(Path(moments_BPP_dir,\"moments_all_c_vector.txt\"), delimiter=',')\n",
    "Omega_all =    np.genfromtxt(Path(moments_BPP_dir,\"moments_all_omega.txt\"), delimiter=',')\n",
    "T=12\n",
    "#Just doing income for now - remove other moments\n",
    "income_moments = np.array([[False]*2*T]*2*T, dtype=bool)\n",
    "income_moments[T:,T:] = True\n",
    "vech_indices2T = vech_indices(2*T)\n",
    "income_moments = income_moments[vech_indices2T]\n",
    "empirical_moments_inc = empirical_moments_all[income_moments]\n",
    "Omega_inc = Omega_all[income_moments,:][:,income_moments]"
   ]
  },
  {
   "cell_type": "code",
   "execution_count": 3,
   "metadata": {
    "lines_to_next_cell": 2
   },
   "outputs": [],
   "source": [
    "# set up initial guess and bounds\n",
    "init_params = np.array([0.005,  #permanent variance\n",
    "                        0.003,  #transitory variance\n",
    "                        0.5,    #decay parameter of slightly persistant transitory shock\n",
    "                        0.5,   #fraction of transitory variance that has no persistence\n",
    "                        0.01])  # decay parameter of perm shock\n",
    "optimize_index = np.array([True,  #permanent variance\n",
    "                        True,  #transitory variance\n",
    "                        True,    #decay parameter of slightly persistant transitory shock\n",
    "                        True,   #fraction of transitory variance that has no persistence\n",
    "                        False]) # decay parameter of perm shock (turned off for now)\n",
    "bounds     = [(0.000001,0.1),\n",
    "              (0.000001,0.1),\n",
    "              (0.1,5.0),\n",
    "              (0.0,1.0),\n",
    "              (-0.1,0.1)]"
   ]
  },
  {
   "cell_type": "code",
   "execution_count": 4,
   "metadata": {
    "code_folding": [
     0
    ],
    "lines_to_next_cell": 2
   },
   "outputs": [],
   "source": [
    "# Do estimation for all population (25-55 or there abouts I think)\n",
    "estimates, estimate_se = parameter_estimation(empirical_moments_inc, Omega_inc, T, init_params, bounds=bounds, optimize_index=optimize_index)  \n",
    "implied_cov = implied_inc_cov_composite(estimates,T)[0:T]\n",
    "# Calculate mean empirical moments and standard errors\n",
    "vech_indicesT = vech_indices(T)\n",
    "mean_moments = np.zeros(T)\n",
    "mean_moments_se = np.zeros(T)\n",
    "for t in range(T):\n",
    "    this_diag = np.diag(1.0/(T-t)*np.ones(T-t),-t)\n",
    "    this_diag = this_diag[vech_indicesT]\n",
    "    mean_moments[t] = np.dot(this_diag,empirical_moments_inc)\n",
    "    mean_moments_se[t] = np.dot(np.dot(this_diag,Omega_inc),this_diag)**0.5\n"
   ]
  },
  {
   "cell_type": "code",
   "execution_count": 93,
   "metadata": {},
   "outputs": [],
   "source": [
    "# Set up plotting and widgets for understanding estimation\n",
    "def plot_moments(perm_var,tran_var,half_life,bonus,perm_decay):\n",
    "    fig = plt.figure(figsize=(14, 4.5),constrained_layout=True)\n",
    "    gs = fig.add_gridspec(1, 5)\n",
    "    panel1 = fig.add_subplot(gs[0, 0])\n",
    "    panel2 = fig.add_subplot(gs[0, 1:])\n",
    "    panel1.plot(mean_moments[0:3], marker='o')\n",
    "    panel2.plot(mean_moments, marker='o',label=\"Mean over all years\")\n",
    "    panel1.plot(mean_moments[0:3]+1.96*mean_moments_se[0:3],linestyle=\"--\",color=\"gray\",linewidth=1.0)\n",
    "    panel1.plot(mean_moments[0:3]-1.96*mean_moments_se[0:3],linestyle=\"--\",color=\"gray\",linewidth=1.0)\n",
    "    #plot the moments for each year\n",
    "    panel1.plot(empirical_moments_inc[0:3], marker='x',linewidth=0,color=\"blue\")\n",
    "    panel2.plot(np.array(range(T)),empirical_moments_inc[0:T], marker='x',linewidth=0,label=\"Individual years\",color=\"blue\")\n",
    "    i = T\n",
    "    for t in np.array(range(T-1))+1:\n",
    "        panel1.plot(empirical_moments_inc[i:min(i+T-t,i+3)], marker='x',linewidth=0,color=\"blue\")\n",
    "        panel2.plot(np.array(range(T-t)),empirical_moments_inc[i:i+T-t], marker='x',linewidth=0,color=\"blue\")\n",
    "        i += T-t\n",
    "    panel2.plot(mean_moments+1.96*mean_moments_se,linestyle=\"--\",color=\"gray\",linewidth=1.0)\n",
    "    panel2.plot(mean_moments-1.96*mean_moments_se,linestyle=\"--\",color=\"gray\",linewidth=1.0)\n",
    "    panel1.set_title('Variance and First Covariance')\n",
    "    panel2.set_title('Covariance $(\\Delta y_t, \\Delta y_{t+n})$')\n",
    "    panel1.set_xlabel(\"Time Difference (n)\")\n",
    "    panel2.set_xlabel(\"Time Difference (n)\")\n",
    "    panel1.set_ylabel(\"Covariance\")\n",
    "    panel2.set_ylabel(\"Covariance\")\n",
    "    panel1.axhline(y=0, color='k',linewidth=1.0)\n",
    "    panel2.axhline(y=0, color='k',linewidth=1.0)\n",
    "    panel1.set_ylim(np.array([-0.0025,0.0125]))\n",
    "    panel2.set_ylim(np.array([-0.0013,0.0003]))\n",
    "    #plot estimates\n",
    "    panel1.plot(implied_cov[0:3], color=\"red\")\n",
    "    panel2.plot(implied_cov, color=\"red\", label='Estimated')\n",
    "    #plot user defined\n",
    "    omega = np.log(2)/half_life\n",
    "    user_params = np.array([perm_var,tran_var,omega,bonus,perm_decay])\n",
    "    user_cov = implied_inc_cov_composite(user_params,T)[0:T]\n",
    "    user_panel1, = panel1.plot(user_cov[0:3], color=\"orange\")\n",
    "    user_panel2, = panel2.plot(user_cov, color=\"orange\", label='User')\n",
    "    panel2.legend(loc='lower right')\n",
    "    \n",
    "#set up widgets with default values\n",
    "cont_update = False\n",
    "perm_var_widget = widgets.FloatSlider(\n",
    "    value=estimates[0],\n",
    "    min=0,\n",
    "    max=0.02,\n",
    "    step=0.001,\n",
    "    description='Perm Var',\n",
    "    disabled=False,\n",
    "    continuous_update=cont_update,\n",
    "    orientation='horizontal',\n",
    "    readout=True,\n",
    "    readout_format='.4f',\n",
    ")\n",
    "tran_var_widget = widgets.FloatSlider(\n",
    "    value=estimates[1],\n",
    "    min=0,\n",
    "    max=0.02,\n",
    "    step=0.001,\n",
    "    description='Tran Var',\n",
    "    disabled=False,\n",
    "    continuous_update=cont_update,\n",
    "    orientation='horizontal',\n",
    "    readout=True,\n",
    "    readout_format='.4f',\n",
    ")\n",
    "half_life_widget = widgets.FloatSlider(\n",
    "    value=np.log(2)/estimates[2],\n",
    "    min=0,\n",
    "    max=5.0,\n",
    "    step=0.1,\n",
    "    description='Tran Half Life',\n",
    "    disabled=False,\n",
    "    continuous_update=cont_update,\n",
    "    orientation='horizontal',\n",
    "    readout=True,\n",
    "    readout_format='.1f',\n",
    ")\n",
    "bonus_widget = widgets.FloatSlider(\n",
    "    value=estimates[3],\n",
    "    min=0,\n",
    "    max=1.0,\n",
    "    step=0.05,\n",
    "    description='Bonus',\n",
    "    disabled=False,\n",
    "    continuous_update=cont_update,\n",
    "    orientation='horizontal',\n",
    "    readout=True,\n",
    "    readout_format='.2f',\n",
    ")\n",
    "perm_decay_widget = widgets.FloatSlider(\n",
    "    value=estimates[4],\n",
    "    min=-0.1,\n",
    "    max=0.1,\n",
    "    step=0.0003,\n",
    "    description='Perm Decay',\n",
    "    disabled=False,\n",
    "    continuous_update=cont_update,\n",
    "    orientation='horizontal',\n",
    "    readout=True,\n",
    "    readout_format='.4f',\n",
    ")\n",
    "reset_button = widgets.Button(description=\"Reset to estimated values\",layout=widgets.Layout(width='20%', height='30px'))\n",
    "def reset_button_clicked(b):\n",
    "    perm_var_widget.value = estimates[0]\n",
    "    tran_var_widget.value = estimates[1]\n",
    "    half_life_widget.value = np.log(2)/estimates[2]\n",
    "    bonus_widget.value = estimates[3]\n",
    "    perm_decay_widget.value = estimates[4]\n",
    "reset_button.on_click(reset_button_clicked)\n"
   ]
  },
  {
   "cell_type": "code",
   "execution_count": 94,
   "metadata": {
    "scrolled": false
   },
   "outputs": [
    {
     "data": {
      "application/vnd.jupyter.widget-view+json": {
       "model_id": "bdcca078bdd9466c9e01282d0c69ecf2",
       "version_major": 2,
       "version_minor": 0
      },
      "text/plain": [
       "Button(description='Reset to estimated values', layout=Layout(height='30px', width='20%'), style=ButtonStyle()…"
      ]
     },
     "metadata": {},
     "output_type": "display_data"
    },
    {
     "data": {
      "application/vnd.jupyter.widget-view+json": {
       "model_id": "68c04410f6d04b03b18d45d74c7c64ca",
       "version_major": 2,
       "version_minor": 0
      },
      "text/plain": [
       "interactive(children=(FloatSlider(value=0.008091175246665153, continuous_update=False, description='Perm Var',…"
      ]
     },
     "metadata": {},
     "output_type": "display_data"
    }
   ],
   "source": [
    "# Plot moments with ability for user to enter parameters\n",
    "display(reset_button)\n",
    "widgets.interact(plot_moments,perm_var=perm_var_widget,tran_var=tran_var_widget,half_life=half_life_widget,bonus=bonus_widget,perm_decay=perm_decay_widget);\n"
   ]
  },
  {
   "cell_type": "code",
   "execution_count": 18,
   "metadata": {
    "lines_to_next_cell": 2
   },
   "outputs": [],
   "source": [
    "# Esimtate parameters by quintiles of certain properties\n",
    "def plot_by_subgroup(subgroup_stub, T, init_params, optimize_index=optimize_index, bounds=bounds):\n",
    "    subgroup_names = []\n",
    "    if (subgroup_stub==\"Liquid Wealth (quintiles)\"):\n",
    "        subgroup_stub='moments_by_liquid_wealth_quantile'\n",
    "        num_quantiles=5\n",
    "    elif (subgroup_stub==\"Net Wealth (quintiles)\"):\n",
    "        subgroup_stub='moments_by_net_wealth_quantile'\n",
    "        num_quantiles=5\n",
    "    elif (subgroup_stub==\"Income (deciles)\"):\n",
    "        subgroup_stub='moments_by_Income_quantile'\n",
    "        num_quantiles=10\n",
    "    elif (subgroup_stub==\"Net Nominal Position (deciles)\"):\n",
    "        subgroup_stub='moments_by_NNP_quantile'\n",
    "        num_quantiles=10\n",
    "    elif (subgroup_stub==\"Interest Rate Exposure (deciles)\"):\n",
    "        subgroup_stub='moments_by_URE_quantile'\n",
    "        num_quantiles=10\n",
    "    elif (subgroup_stub==\"Consumption (deciles)\"):\n",
    "        subgroup_stub='moments_by_MeanCons_quantile'\n",
    "        num_quantiles=10\n",
    "    for i in range(num_quantiles):\n",
    "        subgroup_names += [\"X\"+str(i+1)]\n",
    "    estimates, standard_errors = parameter_estimation_by_subgroup(moments_BPP_dir,subgroup_stub,subgroup_names, T, init_params, optimize_index=optimize_index, bounds=bounds)\n",
    "    fig = plt.figure(figsize=(14, 7),constrained_layout=True)\n",
    "    fig.figsize=(20,40)\n",
    "    gs = fig.add_gridspec(2, 2)\n",
    "    panel1 = fig.add_subplot(gs[0, 0])\n",
    "    panel2 = fig.add_subplot(gs[0, 1])\n",
    "    panel3 = fig.add_subplot(gs[1, 0])\n",
    "    panel4 = fig.add_subplot(gs[1, 1])\n",
    "    panel1.bar(np.array(range(num_quantiles))+1,estimates[:,0])\n",
    "    panel2.bar(np.array(range(num_quantiles))+1,estimates[:,1])\n",
    "    panel3.bar(np.array(range(num_quantiles))+1,np.log(2)/estimates[:,2])\n",
    "    panel4.bar(np.array(range(num_quantiles))+1,estimates[:,3])\n",
    "    panel1.set_title(\"Permanent Variance\")\n",
    "    panel2.set_title(\"Transitory Variance\")\n",
    "    panel3.set_title(\"Half-life of Somewhat Transitory Shock\")\n",
    "    panel4.set_title(\"Share that is Completely Transitory\")\n",
    "    panel1.set_xlabel(\"Quantile\")\n",
    "    panel2.set_xlabel(\"Quantile\")\n",
    "    panel3.set_xlabel(\"Quantile\")\n",
    "    panel4.set_xlabel(\"Quantile\")\n",
    "    \n",
    "subgroup_widget = widgets.Dropdown(\n",
    "    options=['Liquid Wealth (quintiles)',\n",
    "             'Net Wealth (quintiles)',\n",
    "             'Income (deciles)', \n",
    "             'Net Nominal Position (deciles)',\n",
    "             'Interest Rate Exposure (deciles)',\n",
    "             'Consumption (deciles)'],\n",
    "    value='Income (deciles)',\n",
    "    description='Subgroup',\n",
    "    disabled=False,\n",
    ")"
   ]
  },
  {
   "cell_type": "code",
   "execution_count": 19,
   "metadata": {},
   "outputs": [
    {
     "data": {
      "application/vnd.jupyter.widget-view+json": {
       "model_id": "7cba4769fafd4e7fb42816973a2794e2",
       "version_major": 2,
       "version_minor": 0
      },
      "text/plain": [
       "interactive(children=(Dropdown(description='Subgroup', index=2, options=('Liquid Wealth (quintiles)', 'Net Wea…"
      ]
     },
     "metadata": {},
     "output_type": "display_data"
    }
   ],
   "source": [
    "# plot by different quantiles\n",
    "widgets.interact(plot_by_subgroup,subgroup_stub=subgroup_widget, T=widgets.fixed(T), init_params=widgets.fixed(init_params), optimize_index=widgets.fixed(optimize_index), bounds=widgets.fixed(bounds));\n",
    "\n"
   ]
  },
  {
   "cell_type": "code",
   "execution_count": null,
   "metadata": {},
   "outputs": [],
   "source": []
  }
 ],
 "metadata": {
  "jupytext": {
   "cell_metadata_filter": "collapsed,code_folding",
   "cell_metadata_json": true,
   "formats": "ipynb,py:percent",
   "notebook_metadata_filter": "all"
  },
  "kernelspec": {
   "display_name": "Python 3",
   "language": "python",
   "name": "python3"
  },
  "language_info": {
   "codemirror_mode": {
    "name": "ipython",
    "version": 3
   },
   "file_extension": ".py",
   "mimetype": "text/x-python",
   "name": "python",
   "nbconvert_exporter": "python",
   "pygments_lexer": "ipython3",
   "version": "3.7.6"
  }
 },
 "nbformat": 4,
 "nbformat_minor": 4
}
