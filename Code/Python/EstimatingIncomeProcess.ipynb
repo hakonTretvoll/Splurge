{
 "cells": [
  {
   "cell_type": "markdown",
   "metadata": {},
   "source": [
    "\n",
    "# Estimating Income Processes\n",
    "\n",
    "The permanent/transitory decomposition has held up well, but some questions remain. Scandinavian data provides us an unparalled opportunitity to measure this in more detail"
   ]
  },
  {
   "cell_type": "code",
   "execution_count": 1,
   "metadata": {
    "code_folding": [],
    "lines_to_next_cell": 2
   },
   "outputs": [],
   "source": [
    "# Initial imports and notebook setup, click arrow to show\n",
    "import numpy as np\n",
    "import matplotlib.pyplot as plt\n",
    "from pathlib import Path\n",
    "import ipywidgets as widgets\n",
    "from min_distance import parameter_estimation, parameter_estimation_by_subgroup, vech_indices, implied_inc_cov_composite"
   ]
  },
  {
   "cell_type": "code",
   "execution_count": 37,
   "metadata": {
    "code_folding": [
     0
    ],
    "lines_to_next_cell": 2
   },
   "outputs": [],
   "source": [
    "#First load the moments\n",
    "moments_BPP_dir = Path(\"../../Data/BPP_moments/\") \n",
    "empirical_moments_all = np.genfromtxt(Path(moments_BPP_dir,\"moments_all_c_vector.txt\"), delimiter=',')\n",
    "Omega_all =    np.genfromtxt(Path(moments_BPP_dir,\"moments_all_omega.txt\"), delimiter=',')\n",
    "moments_CS_dir = Path(\"../../Data/CarrollSamwickMoments/\") \n",
    "empirical_moments_CS_all = np.genfromtxt(Path(moments_CS_dir,\"moments_all_c_vector.csv\"), delimiter=',')\n",
    "T=12\n",
    "#Just doing income for now - remove other moments\n",
    "income_moments = np.array([[False]*2*T]*2*T, dtype=bool)\n",
    "income_moments[T:,T:] = True\n",
    "vech_indices2T = vech_indices(2*T)\n",
    "income_moments = income_moments[vech_indices2T]\n",
    "empirical_moments_inc = empirical_moments_all[income_moments]\n",
    "Omega_inc = Omega_all[income_moments,:][:,income_moments]"
   ]
  },
  {
   "cell_type": "code",
   "execution_count": 128,
   "metadata": {
    "lines_to_next_cell": 2
   },
   "outputs": [],
   "source": [
    "# set up initial guess and bounds\n",
    "init_params = np.array([0.005,  #permanent variance\n",
    "                        0.003,  #transitory variance\n",
    "                        0.5,    #decay parameter of slightly persistant transitory shock\n",
    "                        0.5,   #fraction of transitory variance that has no persistence\n",
    "                        0.01])  # decay parameter of perm shock\n",
    "optimize_index = np.array([True,  #permanent variance\n",
    "                        True,  #transitory variance\n",
    "                        True,    #decay parameter of slightly persistant transitory shock\n",
    "                        True,   #fraction of transitory variance that has no persistence\n",
    "                        False]) # decay parameter of perm shock (turned off for now)\n",
    "bounds     = [(0.000001,0.1),\n",
    "              (0.000001,0.1),\n",
    "              (0.1,5.0),\n",
    "              (0.0,1.0),\n",
    "              (-0.1,0.1)]"
   ]
  },
  {
   "cell_type": "code",
   "execution_count": 141,
   "metadata": {
    "code_folding": [
     0
    ],
    "lines_to_next_cell": 2
   },
   "outputs": [],
   "source": [
    "# Do estimation for all population (25-55 or there abouts I think)\n",
    "estimates, estimate_se = parameter_estimation(empirical_moments_inc, Omega_inc, T, init_params, bounds=bounds, optimize_index=optimize_index)  \n",
    "implied_cov_full = implied_inc_cov_composite(estimates,T)\n",
    "implied_cov = implied_cov_full[0:T]\n",
    "implied_CS_moments = CS_from_BPP(implied_cov_full)[0:T]\n",
    "# Get Carroll Samwick moments (just appropriate sum of BPP moments)\n",
    "vech_indicesT = vech_indices(T)\n",
    "def CS_from_BPP(BPP_moments):\n",
    "    CS_moments = np.zeros((T,T))\n",
    "    BPP_moments_matrix = np.zeros((T,T))\n",
    "    BPP_moments_matrix[vech_indicesT] = BPP_moments\n",
    "    BPP_moments_matrix[(vech_indicesT[1],vech_indicesT[0])] = BPP_moments\n",
    "    for j in range(T):\n",
    "        for i in np.array(range(T-j))+j:\n",
    "            CS_moments[i,j] = np.sum(BPP_moments_matrix[j:i+1,j:i+1])\n",
    "    CS_moments = CS_moments[vech_indicesT]\n",
    "    return CS_moments\n",
    "CS_moments = CS_from_BPP(empirical_moments_inc)\n",
    "# Calculate mean empirical moments and standard errors\n",
    "mean_moments = np.zeros(T)\n",
    "mean_moments_se = np.zeros(T)\n",
    "CS_moments_mean = np.zeros(T)\n",
    "for t in range(T):\n",
    "    this_diag = np.diag(1.0/(T-t)*np.ones(T-t),-t)\n",
    "    this_diag = this_diag[vech_indicesT]\n",
    "    mean_moments[t] = np.dot(this_diag,empirical_moments_inc)\n",
    "    mean_moments_se[t] = np.dot(np.dot(this_diag,Omega_inc),this_diag)**0.5\n",
    "    CS_moments_mean[t] = np.dot(this_diag,CS_moments)"
   ]
  },
  {
   "cell_type": "code",
   "execution_count": 163,
   "metadata": {
    "lines_to_next_cell": 2
   },
   "outputs": [],
   "source": [
    "# Set up plotting and widgets for understanding estimation\n",
    "def plot_moments(perm_var,tran_var,half_life,bonus,perm_decay,compare=\"All Households\",quantile=1):\n",
    "    fig = plt.figure(figsize=(14, 9),constrained_layout=True)\n",
    "    gs = fig.add_gridspec(2, 13)\n",
    "    panel1 = fig.add_subplot(gs[0, 0:3])\n",
    "    panel2 = fig.add_subplot(gs[0, 4:])\n",
    "    #panel3 = fig.add_subplot(gs[1, 0:3])\n",
    "    panel4 = fig.add_subplot(gs[1, 1:-2])\n",
    "    \n",
    "    panel1.plot(mean_moments[0:3], marker='o')\n",
    "    panel2.plot(mean_moments, marker='o',label=\"Mean over all years\")\n",
    "    CS_Ndiff = np.array(range(T))+1.0\n",
    "    CS_moments_factor = (CS_Ndiff-1.0/3.0)\n",
    "    #panel3.plot(CS_Ndiff[0:3],CS_moments_mean[0:3]/CS_moments_factor[0:3], marker='o')\n",
    "    panel4.plot(CS_Ndiff,CS_moments_mean/CS_moments_factor, marker='o',label=\"Mean over all years\")\n",
    "    # Standard errors\n",
    "    panel1.plot(mean_moments[0:3]+1.96*mean_moments_se[0:3],linestyle=\"--\",color=\"gray\",linewidth=1.0)\n",
    "    panel1.plot(mean_moments[0:3]-1.96*mean_moments_se[0:3],linestyle=\"--\",color=\"gray\",linewidth=1.0)\n",
    "    panel2.plot(mean_moments+1.96*mean_moments_se,linestyle=\"--\",color=\"gray\",linewidth=1.0)\n",
    "    panel2.plot(mean_moments-1.96*mean_moments_se,linestyle=\"--\",color=\"gray\",linewidth=1.0)\n",
    "    \n",
    "    #plot the moments for each year\n",
    "    panel1.plot(empirical_moments_inc[0:3], marker='x',linewidth=0,color='#1f77b4')\n",
    "    panel2.plot(np.array(range(T)),empirical_moments_inc[0:T], marker='x',linewidth=0,label=\"Individual years\",color='#1f77b4')\n",
    "    #panel3.plot(CS_Ndiff[0:3],CS_moments[0:3]/CS_moments_factor[0:3], marker='x',linewidth=0,color='#1f77b4')\n",
    "    panel4.plot(CS_Ndiff[0:T],CS_moments[0:T]/CS_moments_factor, marker='x',linewidth=0,label=\"Individual years\",color='#1f77b4')\n",
    "    \n",
    "    i = T\n",
    "    for t in np.array(range(T-1))+1:\n",
    "        panel1.plot(empirical_moments_inc[i:min(i+T-t,i+3)], marker='x',linewidth=0,color='#1f77b4')\n",
    "        panel2.plot(np.array(range(T-t)),empirical_moments_inc[i:i+T-t], marker='x',linewidth=0,color='#1f77b4')\n",
    "        #panel3.plot(CS_Ndiff[0:min(T-t,3)],CS_moments[i:min(i+T-t,i+3)]/CS_moments_factor[0:min(T-t,3)], marker='x',linewidth=0,color='#1f77b4')\n",
    "        panel4.plot(CS_Ndiff[0:T-t],CS_moments[i:i+T-t]/CS_moments_factor[0:T-t], marker='x',linewidth=0,color='#1f77b4')\n",
    "        i += T-t\n",
    "    panel1.set_title('Variance and\\n First Covariance', fontsize=17)\n",
    "    panel2.set_title('Covariance $(\\Delta y_t, \\Delta y_{t+n})$ - BPP (2008)', fontsize=17)\n",
    "    #panel3.set_title('First Few Variances', fontsize=17)\n",
    "    panel4.set_title('Var$(\\Delta^n y)/(n-1/3)$ - Carroll Samwick (1998)', fontsize=17)\n",
    "    \n",
    "    panel1.set_xlabel(\"Time Difference (n)\", fontsize=15)\n",
    "    panel2.set_xlabel(\"Time Difference (n)\", fontsize=15)\n",
    "    #panel3.set_xlabel(\"Time Difference (n)\", fontsize=15)\n",
    "    panel4.set_xlabel(\"Time Difference (n)\", fontsize=15)\n",
    "    \n",
    "    panel1.set_ylabel(\"Covariance\", fontsize=15)\n",
    "    #panel2.set_ylabel(\"Covariance\", fontsize=12)\n",
    "    #panel3.set_ylabel(\"Variance\", fontsize=15)\n",
    "    panel4.set_ylabel(\"Var$(\\Delta^n y)/(n-1/3)$\", fontsize=15)\n",
    "    \n",
    "    panel1.axhline(y=0, color='k',linewidth=1.0)\n",
    "    panel2.axhline(y=0, color='k',linewidth=1.0)\n",
    "    #panel3.axhline(y=0, color='k',linewidth=1.0)\n",
    "    panel4.axhline(y=0, color='k',linewidth=1.0)\n",
    "    \n",
    "    panel1.set_ylim(np.array([-0.0025,0.0125]))\n",
    "    panel2.set_ylim(np.array([-0.0013,0.0003]))\n",
    "    panel4.set_ylim(np.array([0.0,0.02]))\n",
    "    #plot estimates\n",
    "    panel1.plot(implied_cov[0:3], color=\"red\")\n",
    "    panel2.plot(implied_cov, color=\"red\", label='Estimated')\n",
    "    panel4.plot(CS_Ndiff,implied_CS_moments/CS_moments_factor, color=\"red\", label='Estimated')\n",
    "    \n",
    "    \n",
    "    #plot user defined\n",
    "    omega = np.log(2)/half_life\n",
    "    user_params = np.array([perm_var,tran_var,omega,bonus,perm_decay])\n",
    "    user_cov_full = implied_inc_cov_composite(user_params,T)\n",
    "    user_cov = user_cov_full[0:T]\n",
    "    user_CS_moments = CS_from_BPP(user_cov_full)[0:T]   \n",
    "    \n",
    "    user_panel1, = panel1.plot(user_cov[0:3], color=\"orange\")\n",
    "    user_panel2, = panel2.plot(user_cov, color=\"orange\", label='User')\n",
    "    panel4.plot(CS_Ndiff,user_CS_moments/CS_moments_factor, color=\"orange\", label='User')\n",
    "    #comparison graph\n",
    "    if (compare==\"All Households\"):\n",
    "        panel1.plot(mean_moments[0:3],color='#1f77b4')\n",
    "        panel2.plot(mean_moments,label=\"Compare To\",color='#1f77b4')\n",
    "        panel4.plot(CS_Ndiff,CS_moments_mean/CS_moments_factor,label=\"Compare To\",color='#1f77b4')\n",
    "        quantile_widget.options=['1']\n",
    "    else:\n",
    "        if (compare==\"Liquid Wealth (quintiles)\"):\n",
    "            subgroup_stub='moments_by_liquid_wealth_quantile'\n",
    "            quantile_widget.options=['1','2','3','4','5']\n",
    "        elif (compare==\"Net Wealth (quintiles)\"):\n",
    "            subgroup_stub='moments_by_net_wealth_quantile'\n",
    "            quantile_widget.options=['1','2','3','4','5']\n",
    "        elif (compare==\"Income (deciles)\"):\n",
    "            subgroup_stub='moments_by_Income_quantile'\n",
    "            quantile_widget.options=['1','2','3','4','5','6','7','8','9','10']\n",
    "        elif (compare==\"Net Nominal Position (deciles)\"):\n",
    "            subgroup_stub='moments_by_NNP_quantile'\n",
    "            quantile_widget.options=['1','2','3','4','5','6','7','8','9','10']\n",
    "        elif (compare==\"Interest Rate Exposure (deciles)\"):\n",
    "            subgroup_stub='moments_by_URE_quantile'\n",
    "            quantile_widget.options=['1','2','3','4','5','6','7','8','9','10']\n",
    "        elif (compare==\"Consumption (deciles)\"):\n",
    "            subgroup_stub='moments_by_MeanCons_quantile'\n",
    "            quantile_widget.options=['1','2','3','4','5','6','7','8','9','10']\n",
    "        subgroup_name = subgroup_stub+str(quantile)+\"c_vector.txt\"\n",
    "        empirical_moments_subgroup_all = np.genfromtxt(Path(moments_BPP_dir,subgroup_name), delimiter=',')\n",
    "        empirical_moments_subgroup_inc = empirical_moments_subgroup_all[income_moments]\n",
    "        CS_moments_subgroup = CS_from_BPP(empirical_moments_subgroup_inc)\n",
    "        mean_subgroup_moments = np.zeros(T)\n",
    "        CS_mean_subgroup_moments = np.zeros(T)\n",
    "        for t in range(T):\n",
    "            this_diag = np.diag(1.0/(T-t)*np.ones(T-t),-t)\n",
    "            this_diag = this_diag[vech_indicesT]\n",
    "            mean_subgroup_moments[t] = np.dot(this_diag,empirical_moments_subgroup_inc)\n",
    "            CS_mean_subgroup_moments[t] = np.dot(this_diag,CS_mean_subgroup_moments)\n",
    "        panel1.plot(mean_subgroup_moments[0:3],color='#e377c2')\n",
    "        panel2.plot(mean_subgroup_moments,label=\"Compare To\",color='#e377c2')\n",
    "        panel4.plot(CS_Ndiff,CS_mean_subgroup_moments/CS_moments_factor,label=\"Compare To\",color='#e377c2')     \n",
    "    panel2.legend(loc='lower right', prop={'size': 12})\n",
    "    panel4.legend(loc='lower left', prop={'size': 12})\n",
    "        \n",
    "\n"
   ]
  },
  {
   "cell_type": "code",
   "execution_count": 164,
   "metadata": {},
   "outputs": [],
   "source": [
    "#set up widgets with default values\n",
    "cont_update = False\n",
    "perm_var_widget = widgets.FloatSlider(\n",
    "    value=estimates[0],\n",
    "    min=0,\n",
    "    max=0.02,\n",
    "    step=0.001,\n",
    "    description='Perm Var',\n",
    "    disabled=False,\n",
    "    continuous_update=cont_update,\n",
    "    orientation='horizontal',\n",
    "    readout=True,\n",
    "    readout_format='.4f',\n",
    ")\n",
    "tran_var_widget = widgets.FloatSlider(\n",
    "    value=estimates[1],\n",
    "    min=0,\n",
    "    max=0.02,\n",
    "    step=0.001,\n",
    "    description='Tran Var',\n",
    "    disabled=False,\n",
    "    continuous_update=cont_update,\n",
    "    orientation='horizontal',\n",
    "    readout=True,\n",
    "    readout_format='.4f',\n",
    ")\n",
    "half_life_widget = widgets.FloatSlider(\n",
    "    value=np.log(2)/estimates[2],\n",
    "    min=0,\n",
    "    max=5.0,\n",
    "    step=0.1,\n",
    "    description='Tran Half Life',\n",
    "    disabled=False,\n",
    "    continuous_update=cont_update,\n",
    "    orientation='horizontal',\n",
    "    readout=True,\n",
    "    readout_format='.1f',\n",
    ")\n",
    "bonus_widget = widgets.FloatSlider(\n",
    "    value=estimates[3],\n",
    "    min=0,\n",
    "    max=1.0,\n",
    "    step=0.05,\n",
    "    description='Bonus',\n",
    "    disabled=False,\n",
    "    continuous_update=cont_update,\n",
    "    orientation='horizontal',\n",
    "    readout=True,\n",
    "    readout_format='.2f',\n",
    ")\n",
    "perm_decay_widget = widgets.FloatSlider(\n",
    "    value=estimates[4],\n",
    "    min=-0.1,\n",
    "    max=0.1,\n",
    "    step=0.0003,\n",
    "    description='Perm Decay',\n",
    "    disabled=False,\n",
    "    continuous_update=cont_update,\n",
    "    orientation='horizontal',\n",
    "    readout=True,\n",
    "    readout_format='.4f',\n",
    ")\n",
    "reset_button = widgets.Button(description=\"Reset to estimated values\",layout=widgets.Layout(width='80%', height='30px'))\n",
    "def reset_button_clicked(b):\n",
    "    perm_var_widget.value = estimates[0]\n",
    "    tran_var_widget.value = estimates[1]\n",
    "    half_life_widget.value = np.log(2)/estimates[2]\n",
    "    bonus_widget.value = estimates[3]\n",
    "    perm_decay_widget.value = estimates[4]\n",
    "reset_button.on_click(reset_button_clicked)\n",
    "\n",
    "compare_widget = widgets.Dropdown(\n",
    "    options=['All Households',\n",
    "             'Liquid Wealth (quintiles)',\n",
    "             'Net Wealth (quintiles)',\n",
    "             'Income (deciles)', \n",
    "             'Net Nominal Position (deciles)',\n",
    "             'Interest Rate Exposure (deciles)',\n",
    "             'Consumption (deciles)'],\n",
    "    value='All Households',\n",
    "    description='Compare To',\n",
    "    disabled=False,\n",
    ")\n",
    "quantiles = ['1']\n",
    "quantile_widget = widgets.Dropdown(\n",
    "    options=quantiles,\n",
    "    value='1',\n",
    "    description='Quantile',\n",
    "    disabled=False,\n",
    ")\n",
    "graph_update = widgets.interactive(plot_moments,\n",
    "                                   perm_var=perm_var_widget,\n",
    "                                   tran_var=tran_var_widget,\n",
    "                                   half_life=half_life_widget,\n",
    "                                   bonus=bonus_widget,\n",
    "                                   perm_decay=widgets.fixed(0.01),\n",
    "                                   compare=compare_widget,\n",
    "                                   quantile=quantile_widget\n",
    ")\n",
    "control_widget=widgets.TwoByTwoLayout(\n",
    "          bottom_left=reset_button,\n",
    "          top_right=compare_widget,\n",
    "          bottom_right=quantile_widget\n",
    ")\n",
    "slider_widget=widgets.TwoByTwoLayout(\n",
    "          top_left=perm_var_widget,\n",
    "          top_right=tran_var_widget,\n",
    "          bottom_left = half_life_widget,\n",
    "          bottom_right=bonus_widget\n",
    ")"
   ]
  },
  {
   "cell_type": "code",
   "execution_count": 165,
   "metadata": {},
   "outputs": [
    {
     "data": {
      "application/vnd.jupyter.widget-view+json": {
       "model_id": "498171ea0b8d4b77a776188c35b0dad8",
       "version_major": 2,
       "version_minor": 0
      },
      "text/plain": [
       "TwoByTwoLayout(children=(FloatSlider(value=0.008091175246665153, continuous_update=False, description='Perm Va…"
      ]
     },
     "metadata": {},
     "output_type": "display_data"
    },
    {
     "data": {
      "application/vnd.jupyter.widget-view+json": {
       "model_id": "0b9fa2d4440645558f00d3aa246b9b5d",
       "version_major": 2,
       "version_minor": 0
      },
      "text/plain": [
       "TwoByTwoLayout(children=(Dropdown(description='Compare To', layout=Layout(grid_area='top-right'), options=('Al…"
      ]
     },
     "metadata": {},
     "output_type": "display_data"
    },
    {
     "data": {
      "application/vnd.jupyter.widget-view+json": {
       "model_id": "8df6e78f1746489f9e78d6a72dba291c",
       "version_major": 2,
       "version_minor": 0
      },
      "text/plain": [
       "Output()"
      ]
     },
     "metadata": {},
     "output_type": "display_data"
    },
    {
     "data": {
      "image/png": "[encoded data removed]",
      "text/plain": [
       "<Figure size 1008x648 with 3 Axes>"
      ]
     },
     "metadata": {
      "needs_background": "light"
     },
     "output_type": "display_data"
    }
   ],
   "source": [
    "# plot moments\n",
    "display( slider_widget )\n",
    "display(control_widget)\n",
    "graph_update.update()\n",
    "graph_update.children[6]"
   ]
  },
  {
   "cell_type": "code",
   "execution_count": 42,
   "metadata": {
    "lines_to_next_cell": 2
   },
   "outputs": [],
   "source": [
    "# Esimtate parameters by quintiles of certain properties\n",
    "def plot_by_subgroup(subgroup_stub, T, init_params, optimize_index=optimize_index, bounds=bounds):\n",
    "    subgroup_names = []\n",
    "    if (subgroup_stub==\"Liquid Wealth (quintiles)\"):\n",
    "        subgroup_stub='moments_by_liquid_wealth_quantile'\n",
    "        num_quantiles=5\n",
    "    elif (subgroup_stub==\"Net Wealth (quintiles)\"):\n",
    "        subgroup_stub='moments_by_net_wealth_quantile'\n",
    "        num_quantiles=5\n",
    "    elif (subgroup_stub==\"Income (deciles)\"):\n",
    "        subgroup_stub='moments_by_Income_quantile'\n",
    "        num_quantiles=10\n",
    "    elif (subgroup_stub==\"Net Nominal Position (deciles)\"):\n",
    "        subgroup_stub='moments_by_NNP_quantile'\n",
    "        num_quantiles=10\n",
    "    elif (subgroup_stub==\"Interest Rate Exposure (deciles)\"):\n",
    "        subgroup_stub='moments_by_URE_quantile'\n",
    "        num_quantiles=10\n",
    "    elif (subgroup_stub==\"Consumption (deciles)\"):\n",
    "        subgroup_stub='moments_by_MeanCons_quantile'\n",
    "        num_quantiles=10\n",
    "    for i in range(num_quantiles):\n",
    "        subgroup_names += [\"X\"+str(i+1)]\n",
    "    estimates, standard_errors = parameter_estimation_by_subgroup(moments_BPP_dir,subgroup_stub,subgroup_names, T, init_params, optimize_index=optimize_index, bounds=bounds)\n",
    "    fig = plt.figure(figsize=(14, 7),constrained_layout=True)\n",
    "    fig.figsize=(20,40)\n",
    "    gs = fig.add_gridspec(2, 2)\n",
    "    panel1 = fig.add_subplot(gs[0, 0])\n",
    "    panel2 = fig.add_subplot(gs[0, 1])\n",
    "    panel3 = fig.add_subplot(gs[1, 0])\n",
    "    panel4 = fig.add_subplot(gs[1, 1])\n",
    "    panel1.bar(np.array(range(num_quantiles))+1,estimates[:,0])\n",
    "    panel2.bar(np.array(range(num_quantiles))+1,estimates[:,1])\n",
    "    panel3.bar(np.array(range(num_quantiles))+1,np.log(2)/estimates[:,2])\n",
    "    panel4.bar(np.array(range(num_quantiles))+1,estimates[:,3])\n",
    "    panel1.set_title(\"Permanent Variance\")\n",
    "    panel2.set_title(\"Transitory Variance\")\n",
    "    panel3.set_title(\"Half-life of Somewhat Transitory Shock\")\n",
    "    panel4.set_title(\"Share that is Completely Transitory\")\n",
    "    panel1.set_xlabel(\"Quantile\")\n",
    "    panel2.set_xlabel(\"Quantile\")\n",
    "    panel3.set_xlabel(\"Quantile\")\n",
    "    panel4.set_xlabel(\"Quantile\")\n",
    "    \n",
    "subgroup_widget = widgets.Dropdown(\n",
    "    options=['Liquid Wealth (quintiles)',\n",
    "             'Net Wealth (quintiles)',\n",
    "             'Income (deciles)', \n",
    "             'Net Nominal Position (deciles)',\n",
    "             'Interest Rate Exposure (deciles)',\n",
    "             'Consumption (deciles)'],\n",
    "    value='Income (deciles)',\n",
    "    description='Subgroup',\n",
    "    disabled=False,\n",
    ")"
   ]
  },
  {
   "cell_type": "code",
   "execution_count": 43,
   "metadata": {},
   "outputs": [
    {
     "data": {
      "application/vnd.jupyter.widget-view+json": {
       "model_id": "b678ffd577f841abb18872a6dd33d857",
       "version_major": 2,
       "version_minor": 0
      },
      "text/plain": [
       "interactive(children=(Dropdown(description='Subgroup', index=2, options=('Liquid Wealth (quintiles)', 'Net Wea…"
      ]
     },
     "metadata": {},
     "output_type": "display_data"
    }
   ],
   "source": [
    "# plot by different quantiles\n",
    "widgets.interact(plot_by_subgroup,subgroup_stub=subgroup_widget, T=widgets.fixed(T), init_params=widgets.fixed(init_params), optimize_index=widgets.fixed(optimize_index), bounds=widgets.fixed(bounds));\n",
    "\n"
   ]
  },
  {
   "cell_type": "code",
   "execution_count": null,
   "metadata": {},
   "outputs": [],
   "source": []
  }
 ],
 "metadata": {
  "jupytext": {
   "cell_metadata_filter": "collapsed,code_folding",
   "cell_metadata_json": true,
   "formats": "ipynb,py:percent",
   "notebook_metadata_filter": "all"
  },
  "kernelspec": {
   "display_name": "Python 3",
   "language": "python",
   "name": "python3"
  },
  "language_info": {
   "codemirror_mode": {
    "name": "ipython",
    "version": 3
   },
   "file_extension": ".py",
   "mimetype": "text/x-python",
   "name": "python",
   "nbconvert_exporter": "python",
   "pygments_lexer": "ipython3",
   "version": "3.7.6"
  }
 },
 "nbformat": 4,
 "nbformat_minor": 4
}
